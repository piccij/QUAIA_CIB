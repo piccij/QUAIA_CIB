{
 "cells": [
  {
   "cell_type": "markdown",
   "metadata": {},
   "source": [
    "Notebook to compute CLs for the analysis, including: galaxy clustering of QUAIA QSOs (GG), CIB (cc) and lensing data (kk)"
   ]
  },
  {
   "source": [
    "## CLS with GG, CIB, CMB\n",
    "import os\n",
    "import sys\n",
    "import numpy as np\n",
    "import pymaster as nmt\n",
    "import pyccl as ccl\n",
    "import sacc\n",
    "import xcell as xcl\n",
    "import matplotlib.pyplot as plt\n",
    "import healpy as hp"
   ]
  },
  {
   "cell_type": "code",
   "execution_count": 31,
   "metadata": {},
   "outputs": [],
   "source": []
  },
  {
   "cell_type": "code",
   "execution_count": null,
   "metadata": {},
   "outputs": [],
   "source": [
    "## CIB MAP: highest frequency ##\n",
    "nside = 512\n",
    "map_c = hp.read_map(dir + 'cib_map_rot.fits')\n",
    "# hp.mollview(map_c, title = len(map_c))\n",
    "mask_c = hp.read_map(dir + 'cib_mask_rot.fits')\n",
    "# hp.mollview(mask_c, title = len(map_c))\n",
    "print(np.isnan(mask_c).sum(), np.isnan(map_c).sum())\n",
    "\n",
    "## down-sizing ##\n",
    "map_c = hp.ud_grade(map_c, nside)\n",
    "mask_c[mask_c<=0.5] = 0\n",
    "mask_c[mask_c>0.5] = 1\n",
    "mask_c = hp.ud_grade(mask_c, nside)\n",
    "print(len(map_c))\n",
    "print(np.isnan(mask_c).sum(), np.isnan(map_c).sum())\n",
    "\n",
    "lmax = 3*nside\n",
    "fwhm = 5\n",
    "bl = hp.gauss_beam(np.radians(fwhm/60.), lmax = lmax)\n",
    "cc = nmt.NmtField(mask_c, [map_c], beam = bl)"
   ]
  },
  {
   "cell_type": "code",
   "execution_count": null,
   "metadata": {},
   "outputs": [],
   "source": [
    "## LENSING MAP AND MASK, NB the maps is obtained with pol-only ##\n",
    "map_l = hp.read_map(dir  + 'kappa_ns512_rotated_PR4Truep_p.fits')\n",
    "mask_l = hp.read_map(dir + 'mask_kappa_ns512_rotated_PR4Truep_p.fits')\n",
    "kk = nmt.NmtField(mask_l, [map_l], n_iter=0)"
   ]
  },
  {
   "cell_type": "code",
   "execution_count": null,
   "metadata": {},
   "outputs": [],
   "source": [
    "## GALAXY MAPS and MASKS from quaia catalog. 3 galaxy bins. NB the same selection function is used for bin2 and bin3 ##\n",
    "nbins = 3\n",
    "Asn_prior = None\n",
    "magcut = \"20.5\"\n",
    "nz_spec = False\n",
    "if nz_spec:\n",
    "    nz_suff = '_nzhist'\n",
    "    num_z_bins = 100\n",
    "else:\n",
    "    nz_suff = ''\n",
    "    num_z_bins = 500\n",
    "\n",
    "# Read full catalog and calculate edges for the number of bins\n",
    "config = {'nside': nside, 'num_z_bins': num_z_bins, 'z_edges': [0.0, 5.0],\n",
    "          'data_catalog': dir + f\"/quaia_G{magcut}.fits\",\n",
    "          'selection': dir + f\"/selection_function_NSIDE64_G{magcut}.fits\",\n",
    "          'mask_threshold': 0.5, 'coords': 'C', 'nz_spec': nz_spec}\n",
    "mp = xcl.mappers.MapperGAIAQSO(config)\n",
    "cat = mp.get_catalog()\n",
    "zs = sorted(cat['redshift_quaia'])\n",
    "z_edges = [0, 1, 2.5, 5]  ##z_edges for three bins: no need to be equi-populated##\n",
    "\n",
    "\n",
    "maps = {}\n",
    "masks = {}\n",
    "nzs = {}\n",
    "fgs = {}\n",
    "pnl = {}\n",
    "n = ['0', '1', '1']                     ## use the same selection function for both 2-3 bin ##\n",
    "for i in range(nbins):\n",
    "    print(i+1)\n",
    "    if nbins == 1:\n",
    "        selname = dir + f\"/selection_function_NSIDE64_G{magcut}.fits\"\n",
    "    else:\n",
    "        # change this when we have 3 selection functions \n",
    "        selname = dir + f\"/selection_function_NSIDE64_G20.5_zsplit{nbins-1}bin{n[i]}.fits\"\n",
    "    nm = f'qso{i}'\n",
    "    config = {'nside': nside, 'num_z_bins': num_z_bins, 'z_edges': [z_edges[i], z_edges[i+1]],\n",
    "              'data_catalog': dir + f\"/quaia_G{magcut}.fits\",\n",
    "              'selection': selname,\n",
    "              'mask_threshold': 0.5, 'coords': 'C', 'nz_spec': nz_spec}\n",
    "    mp = xcl.mappers.MapperGAIAQSO(config)\n",
    "    maps[nm] = mp.get_signal_map()\n",
    "    masks[nm] = mp.get_mask()\n",
    "    nzs[nm] = mp.get_nz()\n",
    "    pnl[nm] = mp.get_nl_coupled()\n",
    "    fg = mp.get_nmt_field()\n",
    "    fg.sel = 'gal'\n",
    "    fgs[nm] = fg\n",
    "    \n",
    "## create the namaster field to compute power spectra ##\n",
    "gg = [fgs[f'qso{i}'] for i in range(nbins)]\n"
   ]
  },
  {
   "cell_type": "code",
   "execution_count": 37,
   "metadata": {},
   "outputs": [],
   "source": [
    "## SAVE CLs and COVARIANCE ##\n",
    "bpw_edges = [0, 30, 60, 90, 120, 150, 180, 210, 240, 272, 309, 351, 398, 452, 513, 582, 661, 750, 852, 967, 1098, 1247, 1536]\n",
    "\n",
    "# logarithmic binning schemes #\n",
    "b = nmt.NmtBin.from_edges(bpw_edges[:-1], bpw_edges[1:])\n",
    "leff = b.get_effective_ells()\n",
    "\n",
    "# Calculator\n",
    "def get_cl(f1, f2, pnl=None):\n",
    "    pcl = nmt.compute_coupled_cell(f1, f2)\n",
    "    w = nmt.NmtWorkspace()\n",
    "    w.compute_coupling_matrix(f1, f2, b)\n",
    "    cl = w.decouple_cell(pcl)\n",
    "    if pnl is not None:\n",
    "        nl = w.decouple_cell(pnl)\n",
    "        cl -= nl\n",
    "    else:\n",
    "        nl = np.zeros_like(cl)\n",
    "    wins = w.get_bandpower_windows()\n",
    "    return cl, nl, w, wins.squeeze()\n"
   ]
  },
  {
   "cell_type": "code",
   "execution_count": null,
   "metadata": {},
   "outputs": [],
   "source": [
    "map_names = ['qso0', 'qso1', 'qso2', 'CIBLenz__2', 'CMBKappa__P']\n",
    "def cl_iter():\n",
    "    icl = 0\n",
    "    for i1, nm1 in enumerate(map_names):\n",
    "        for i2, nm2 in enumerate(map_names):\n",
    "            # Skip repeated\n",
    "            if i2 < i1:\n",
    "                continue\n",
    "            # Skip cib-cib and kappa-kappa\n",
    "            if (nm1 == 'CIBLenz__2') and (nm2 == 'CIBLenz__2') or (nm1 == 'CMBKappa__P') and (nm1 == 'CMBKappa__P') or (nm1 == 'CIBLenz__2') and (nm2 == 'CMBKappa__P') or (nm2 == 'CIBLenz__2') and (nm1 == 'CMBKappa__P'):\n",
    "                continue\n",
    "            cl_name = f'{nm1}_{nm2}'\n",
    "            yield icl, i1, i2, nm1, nm2, cl_name\n",
    "            icl += 1\n",
    "\n",
    "## storing fields, cls and noises ##\n",
    "cls = {}\n",
    "fgs = {}\n",
    "pnls = {}\n",
    "n = ['qso0','qso1', 'qso2']\n",
    "\n",
    "for i in range(nbins):\n",
    "    gg[i].sel = 'gal'\n",
    "    fgs[map_names[i]] = gg[i]\n",
    "    pnls[map_names[i]] = pnl[n[i]]\n",
    "\n",
    "## adding cib and cmb fields to the galaxy ones##\n",
    "fcc = cc\n",
    "fcc.sel = 'CIBLenz__2'\n",
    "fgs['CIBLenz__2'] = cc \n",
    "fkk = kk\n",
    "fkk.sel = ['CMBKappa__P']\n",
    "fgs['CMBKappa__P'] = kk\n",
    "\n",
    "\n",
    "for icl, _, _, nm1, nm2, cl_name in cl_iter():\n",
    "    print(cl_name)\n",
    "    print(icl)\n",
    "    fg1 = fgs[nm1]\n",
    "    fg2 = fgs[nm2]\n",
    "    pnl = pnls[nm1] if nm1 == nm2 else None\n",
    "    cl, nl, w, Bbl = get_cl(fg1, fg2, pnl=pnl)\n",
    "    \n",
    "    cls[cl_name] = {'cl': cl, 'nl': nl, 'Bbl': Bbl, 'w': w}\n"
   ]
  },
  {
   "cell_type": "code",
   "execution_count": 10,
   "metadata": {},
   "outputs": [
    {
     "data": {
      "text/plain": [
       "<matplotlib.legend.Legend at 0x7fb16420a190>"
      ]
     },
     "execution_count": 10,
     "metadata": {},
     "output_type": "execute_result"
    },
    {
     "data": {
      "image/png": "[encoded data removed]",
      "text/plain": [
       "<Figure size 432x288 with 1 Axes>"
      ]
     },
     "metadata": {
      "needs_background": "light"
     },
     "output_type": "display_data"
    },
    {
     "data": {
      "image/png": "[encoded data removed]",
      "text/plain": [
       "<Figure size 432x288 with 1 Axes>"
      ]
     },
     "metadata": {
      "needs_background": "light"
     },
     "output_type": "display_data"
    }
   ],
   "source": [
    "## PLOT CHECK ##\n",
    "plt.loglog(leff, cls['qso0_CIBLenz__2']['cl'][0], 'rs', label = 'qso0_CIBLenz__2', ls = '--')\n",
    "plt.plot(leff+2, cls['qso1_CIBLenz__2']['cl'][0], 'kd', label = 'qso1_CIBLenz__2', ls = '--')\n",
    "plt.plot(leff+4, cls['qso2_CIBLenz__2']['cl'][0], 'bo',  label = 'qso2_CIBLenz__2', ls = '--')\n",
    "plt.legend(loc = 'best', fontsize = 12, frameon = False)\n",
    "\n",
    "plt.loglog(leff, cls['qso0_CMBKappa__P']['cl'][0], 'rs', label = 'qso0_CMBKappa__P', ls = '--')\n",
    "plt.plot(leff+2, cls['qso1_CMBKappa__P']['cl'][0], 'kd', label = 'qso1_CMBKappa__P', ls = '--')\n",
    "plt.plot(leff+4, cls['qso2_CMBKappa__P']['cl'][0], 'bo',  label = 'qso2_CMBKappa__P', ls = '--')\n",
    "plt.legend(loc = 'best', fontsize = 10, frameon = False)"
   ]
  },
  {
   "cell_type": "code",
   "execution_count": 25,
   "metadata": {},
   "outputs": [],
   "source": [
    "## computing the total covariance considering: 3 cross spectrum and 3 auto spectrum (no gigj) ##\n",
    "cws = {}\n",
    "## work around since get mask is not working\n",
    "masks_all = {'qso0': masks['qso0'], 'qso1': masks['qso1'], 'qso2': masks['qso2'], 'CIBLenz__2': mask_c, 'CMBKappa__P': mask_l}\n",
    "\n",
    "def get_cov(f1, f2, f3, f4, ms, w12, w34):\n",
    "    nm = f'{f1.sel}-{f2.sel}-{f3.sel}-{f4.sel}'\n",
    "    fs = [f1, f2, f3, f4]\n",
    "    # ms = [f.get_mask() for f in fs]\n",
    "    #ms = [mask_bin1, mask_bin2, mask_c, mask_c]\n",
    "    cls = np.array([[nmt.compute_coupled_cell(fs[i], fs[j])/np.mean(ms[i]*ms[j])\n",
    "                     for i in range(4)] for j in range(4)])\n",
    "    cw = nmt.NmtCovarianceWorkspace()\n",
    "    cw.compute_coupling_coefficients(f1, f2, f3, f4)\n",
    "    cws[nm] = cw\n",
    "    cv = nmt.gaussian_covariance(cw, 0, 0, 0, 0, cls[0, 2], cls[0, 3], cls[1, 2], cls[1, 3], w12, wb=w34)\n",
    "    return cv"
   ]
  },
  {
   "cell_type": "code",
   "execution_count": null,
   "metadata": {},
   "outputs": [],
   "source": [
    "n_cls = (nbins+1)*((nbins)+3)//2\n",
    "n_ell = len(cls['qso0_qso0']['cl'][0])\n"
   ]
  },
  {
   "cell_type": "code",
   "execution_count": 42,
   "metadata": {},
   "outputs": [],
   "source": [
    "cov = []\n",
    "for i1, _, _, _, _, _ in cl_iter():\n",
    "    cov.append([])\n",
    "    for i2, _, _, _, _, _ in cl_iter():\n",
    "        cov[i1].append(np.zeros([n_ell, n_ell]))\n",
    "\n",
    "for icl1, _, _, nm1, nm2, cl_name12 in cl_iter():\n",
    "    f1 = fgs[nm1]\n",
    "    f2 = fgs[nm2]\n",
    "    # print('nm1', nm1, 'nm2', nm2)\n",
    "    w12 = cls[cl_name12]['w']\n",
    "    for icl2, _, _, nm3, nm4, cl_name34 in cl_iter():\n",
    "        #print(nm1, nm2, nm3, nm4)\n",
    "        f3 = fgs[nm3]\n",
    "        f4 = fgs[nm4]\n",
    "        # print('nm3', nm3, 'nm4', nm4)\n",
    "        w34 = cls[cl_name34]['w']\n",
    "        ms = [masks_all[nm] for nm in [nm1, nm2, nm3, nm4]]\n",
    "        if icl2 < icl1:\n",
    "            cv = cov[icl2][icl1].T\n",
    "        else:\n",
    "            cv = get_cov(f1, f2, f3, f4, ms, w12, w34)\n",
    "        if icl1 == icl2:\n",
    "            # gg-gg auto cov. Deproject shot noise.\n",
    "            if (nm1 == nm2) and (Asn_prior is not None):\n",
    "                nl = cls[cl_name12]['nl'].squeeze()\n",
    "                cv += Asn_prior**2*np.outer(nl, nl)\n",
    "            cls[cl_name12]['cov'] = cv\n",
    "        cov[icl1][icl2] = cv\n",
    "cov_blocks = np.array(cov)\n",
    "cov_all = np.transpose(cov_blocks, axes=[0, 2, 1, 3]).reshape([n_cls*n_ell, n_cls*n_ell])"
   ]
  },
  {
   "cell_type": "code",
   "execution_count": null,
   "metadata": {},
   "outputs": [],
   "source": [
    "## saving into a Sacc file ##\n",
    "s = sacc.Sacc()\n",
    "ls = np.arange(3*nside)\n",
    "bm = np.ones(3*nside)\n",
    "\n",
    "i = 0\n",
    "for nm in map_names[:-2]:\n",
    "    print(nm)\n",
    "    nz = nzs[i]\n",
    "    s.add_tracer('NZ', nm, quantity='galaxy_density', spin=0, z= z, nz=nz)\n",
    "    i+=1\n",
    "\n",
    "s.add_tracer('Map', 'CIBLenz__2', quantity='cib', spin=0, ell=ls, beam=bm)\n",
    "s.add_tracer('Map', 'CMBKappa__P', quantity='cmb', spin=0, ell=ls, beam=bm)\n",
    "\n",
    "for icl1, _, _, nm1, nm2, cl_name in cl_iter():\n",
    "    d = cls[cl_name]\n",
    "    s.add_ell_cl('cl_00', nm1, nm2, leff,\n",
    "                 d['cl'].squeeze(),\n",
    "                 window=sacc.BandpowerWindow(ls, d['Bbl'].T))\n",
    "s.add_covariance(cov_all)\n",
    "fname = f\"cls_g_cib_{nbins}bins_G{magcut}_logbins3_allfield\"\n",
    "s.save_fits(dir +fname+\".fits\", overwrite=True)"
   ]
  },
  {
   "cell_type": "code",
   "execution_count": null,
   "metadata": {},
   "outputs": [],
   "source": []
  }
 ],
 "metadata": {
  "kernelspec": {
   "display_name": "Python 3.9.7 ('base')",
   "language": "python",
   "name": "python3"
  },
  "language_info": {
   "codemirror_mode": {
    "name": "ipython",
    "version": 3
   },
   "file_extension": ".py",
   "mimetype": "text/x-python",
   "name": "python",
   "nbconvert_exporter": "python",
   "pygments_lexer": "ipython3",
   "version": "3.9.7"
  },
  "orig_nbformat": 4,
  "vscode": {
   "interpreter": {
    "hash": "427a5a29ca46bb068069aa8077d5fbbc49c08ba059082294229ac9a873f669b9"
   }
  }
 },
 "nbformat": 4,
 "nbformat_minor": 2
}
