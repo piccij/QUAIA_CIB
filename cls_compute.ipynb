{
 "cells": [
  {
   "cell_type": "code",
   "execution_count": 1,
   "metadata": {},
   "outputs": [],
   "source": [
    "\n",
    "import numpy as np\n",
    "import pymaster as nmt\n",
    "import pyccl as ccl\n",
    "import sacc\n",
    "import xcell as xcl\n",
    "import matplotlib.pyplot as plt\n",
    "import healpy as hp\n"
   ]
  },
  {
   "cell_type": "code",
   "execution_count": 12,
   "metadata": {},
   "outputs": [],
   "source": [
    "\n",
    "nside = 512\n",
    "nbins = 3\n",
    "# Include prior on shot-noise amplitude?\n",
    "#Asn_prior = 0.1\n",
    "Asn_prior = None\n",
    "magcut = \"20.5\"\n",
    "dir_l1 = '/home/giulia/Scrivania/Giuli/dottorato/mappe/mappe_lensing_cmb/PR4_variations/v1/'\n",
    "predir = '/home/giulia/Scrivania/Giuli/dottorato/mappe/quaia/bin3/'\n",
    "dir_c = '/home/giulia/Scrivania/Giuli/dottorato/mappe/cib/'\n"
   ]
  },
  {
   "cell_type": "code",
   "execution_count": 13,
   "metadata": {},
   "outputs": [],
   "source": [
    "## reading maps  and mask##\n",
    "map_k = hp.read_map(f'{dir_l1}kappa_map_nside512v1.fits')\n",
    "mask_k = hp.read_map(f'{dir_l1}kappa_mask_nside512v1.fits')\n",
    "\n",
    "# map_bin1 = hp.read_map(f\"{predir}quaia_G{magcut}_bin{1}_map_nside512v1.fits\")\n",
    "mask_bin1 = hp.read_map(f\"{predir}quaia_G{magcut}_bin{1}_mask_nside512v1.fits\")\n",
    "# map_bin2 = hp.read_map(f\"{predir}quaia_G{magcut}_bin{2}_map_nside512v1.fits\")\n",
    "mask_bin2 = hp.read_map(f\"{predir}quaia_G{magcut}_bin{2}_mask_nside512v1.fits\")\n",
    "# map_bin3 = hp.read_map(f\"{predir}quaia_G{magcut}_bin{3}_map_nside512v1.fits\")\n",
    "\n",
    "# map_bin = [map_bin1, map_bin2, map_bin3]\n",
    "# mask_bin = [mask_bin1, mask_bin2, mask_bin2]\n",
    "# # hp.mollview(map_bin2)\n",
    "# # hp.mollview(map_bin3)\n",
    "# # hp.mollview(map_bin1)\n",
    "# print(len(map_bin[1]))"
   ]
  },
  {
   "cell_type": "code",
   "execution_count": 14,
   "metadata": {},
   "outputs": [],
   "source": [
    "# ## cls auto ## \n",
    "# # wsp.decouple_cell(ngg[n[i]]) : this is done to remove the shot noise from the spectrum.\n",
    "# # no need to subtract as in Anafast #\n",
    "# lmax = 3*nside-1\n",
    "# ### binning scheme\n",
    "# b_bin = nmt.NmtBin(nside, nlb = 30)\n",
    "# # ell_arr = b_bin.get_effective_ells() ##binned ell\n",
    "# #print(ell_arr)\n",
    "\n",
    "# map = hp.read_map('/home/giulia/Scrivania/map1.fits')\n",
    "# mask = hp.read_map('/home/giulia/Scrivania/mask1.fits')\n",
    "\n",
    "# gg = nmt.NmtField(mask, map]) \n",
    "# wsp = nmt.NmtWorkspace()\n",
    "# wsp.compute_coupling_matrix(gg, gg, b_bin, lmax_mask = lmax)\n",
    "# ngg_l = wsp.decouple_cell(1.76661224e-05*np.ones((1, 3*nside)))                                   \n",
    "# cl_gg = nmt.workspaces.compute_full_master(gg, gg, b_bin, workspace = wsp) \n",
    "# cl_gg-= ngg_l\n",
    "# plt.loglog(ell_arr, cl_gg[0])\n"
   ]
  },
  {
   "cell_type": "code",
   "execution_count": 15,
   "metadata": {},
   "outputs": [
    {
     "data": {
      "text/plain": [
       "()"
      ]
     },
     "execution_count": 15,
     "metadata": {},
     "output_type": "execute_result"
    }
   ],
   "source": [
    "np.shape(map)"
   ]
  },
  {
   "cell_type": "code",
   "execution_count": 16,
   "metadata": {},
   "outputs": [],
   "source": [
    "# # plot #\n",
    "# #%matplotlib\n",
    "# figure('$C_{\\ell}^{g g}$', '$\\ell$', (5e-9, 1e-3), (5,1700), 'linear', 'linear' )\n",
    "# plt.plot(ell_arr, cl_gg[0][0], marker = 'd', ms = 6, ls = '', label = 'bin1')\n",
    "# plt.loglog(ell_arr, n_gg_l[0][0])\n",
    "\n",
    "# ## true cls ##\n",
    "# os.chdir('/home/giulia/Scrivania/Giuli/dottorato/oxford_work/quaiaxcmb/')\n",
    "# s = sacc.Sacc.load_fits(\"cls_quaia_planckPR4_s8.fits\")\n",
    "# n = 'qso0'\n",
    "# l, cl_ggt, cov_gg_gg = s.get_ell_cl('cl_00', n, n, return_cov=True)\n",
    "# plt.errorbar(l, cl_ggt, yerr=np.sqrt(np.diag(cov_gg_gg)), fmt='k.', label = 'bin1, true',\n",
    "#             ms = 6)\n",
    "\n",
    "# # # # ## Second bin\n",
    "# # #n = 'qso1'\n",
    "# # # # ## Auto\n",
    "# # # # # l, cl_gg, cov_gg_gg = s.get_ell_cl('cl_00', n, n, return_cov=True)\n",
    "# # # # # plt.errorbar(l, cl_gg, yerr=np.sqrt(np.diag(cov_gg_gg)), fmt='k.', label=r'$C_\\ell^{gg}$')\n",
    "# # # # ## Cross\n",
    "# # plt.legend(loc='best', frameon = False)"
   ]
  },
  {
   "cell_type": "code",
   "execution_count": 17,
   "metadata": {},
   "outputs": [
    {
     "data": {
      "text/plain": [
       "map"
      ]
     },
     "execution_count": 17,
     "metadata": {},
     "output_type": "execute_result"
    }
   ],
   "source": [
    "map"
   ]
  },
  {
   "cell_type": "code",
   "execution_count": 18,
   "metadata": {},
   "outputs": [],
   "source": [
    "# ## cls cross ##\n",
    "# kk = nmt.NmtField(mask_k, [map_k])\n",
    "# cl_xm = [[] for i in range(len(ell_arr))]\n",
    "# for i in range(nbins):\n",
    "#   wsp = nmt.NmtWorkspace()\n",
    "#   wsp.compute_coupling_matrix(gg[i], kk, b_bin, lmax_mask = lmax)\n",
    "#   cl_xm[i] = nmt.workspaces.compute_full_master(gg[i], kk, b_bin, workspace = wsp) "
   ]
  },
  {
   "cell_type": "code",
   "execution_count": 19,
   "metadata": {},
   "outputs": [],
   "source": [
    "# figure('$C_{\\ell}^{\\kappa g}$', '$\\ell$', (1e-9, 1e-6), (2,1700), 'linear', 'linear' )\n",
    "# plt.loglog(ell_arr, cl_xm[0][0], marker = 'o', ms = 6, ls = '', label = f'bin{1}')\n",
    "# ## true cls ##\n",
    "# os.chdir('/home/giulia/Scrivania/Giuli/dottorato/oxford_work/quaiaxcmb/')\n",
    "# s = sacc.Sacc.load_fits(\"cls_quaia_planckPR4_s8.fits\")\n",
    "# n = 'qso0'\n",
    "# l, cl_gk, cov_gk_gk = s.get_ell_cl('cl_00', n, 'kappa', return_cov=True)\n",
    "# plt.errorbar(l, cl_gk, yerr=np.sqrt(np.diag(cov_gk_gk)), color ='red', ls = '', marker = 'd', ms = 6, label=f'bin{1}, true')\n",
    "\n",
    "# # Second bin\n",
    "# #l, cl_gk, cov_gk_gk = s.get_ell_cl('cl_00', n, 'kappa', return_cov=True)\n",
    "# #plt.errorbar(l, cl_gk, yerr=np.sqrt(np.diag(cov_gk_gk)), fmt='b.', label=r'$C_\\ell^{g\\kappa}$')\n",
    "# # ax.set_xscale('log')\n",
    "# plt.legend(loc='best', frameon = False)"
   ]
  },
  {
   "cell_type": "code",
   "execution_count": 20,
   "metadata": {},
   "outputs": [
    {
     "name": "stdout",
     "output_type": "stream",
     "text": [
      "0 0\n",
      "3145728\n",
      "0 0\n"
     ]
    }
   ],
   "source": [
    "## CIB MAP: highest frequency ##\n",
    "map_c = hp.read_map(dir_c + 'cib_map_rot.fits')\n",
    "# hp.mollview(map_c, title = len(map_c))\n",
    "mask_c = hp.read_map(dir_c + 'cib_mask_rot.fits')\n",
    "# hp.mollview(mask_c, title = len(map_c))\n",
    "print(np.isnan(mask_c).sum(), np.isnan(map_c).sum())\n",
    "\n",
    "## down-sizing ##\n",
    "map_c = hp.ud_grade(map_c, 512)\n",
    "mask_c[mask_c<=0.5] = 0\n",
    "mask_c[mask_c>0.5] = 1\n",
    "mask_c = hp.ud_grade(mask_c, 512)\n",
    "print(len(map_c))\n",
    "print(np.isnan(mask_c).sum(), np.isnan(map_c).sum())\n",
    "\n",
    "lmax = 3*nside\n",
    "fwhm = 5\n",
    "bl = hp.gauss_beam(np.radians(fwhm/60.), lmax = lmax) ## smooth version of w_ell ##\n",
    "cc = nmt.NmtField(mask_c, [map_c], beam = bl)"
   ]
  },
  {
   "cell_type": "code",
   "execution_count": 21,
   "metadata": {},
   "outputs": [],
   "source": [
    "# # cross cls and covariance ##\n",
    "# cl_gc = [[] for i in range(nbins)]\n",
    "# covar_gcgc =[[] for i in range(nbins)]   \n",
    "\n",
    "# for i in range(nbins):\n",
    "\n",
    "#     wsp = nmt.NmtWorkspace()\n",
    "#     wsp.compute_coupling_matrix(cc, gg[i], b_bin, lmax_mask = lmax)\n",
    "#     cl_gc[i] = nmt.workspaces.compute_full_master(cc, gg[i], b_bin, workspace = wsp)[0]\n",
    "\n",
    "#  ## adding - covariance ##\n",
    "# #gg2 = nmt.NmtField(mask_bin[1], [map_bin[1]])\n",
    "# clsggc = [nmt.compute_coupled_cell(cc, gg[i])[0]/np.mean(mask_c*mask_bin2) for i in range(nbins)]\n",
    "# clscc = nmt.compute_coupled_cell(cc, cc)[0]/np.mean(mask_c*mask_c)\n",
    "# clsgg = [nmt.compute_coupled_cell(gg[i], gg[i])[0]/np.mean(mask_bin2*mask_bin2) for i in range(nbins)]\n",
    "\n",
    "# nll = len(cl_gc[0])\n",
    "# print(len(cl_gc[0]))\n",
    "\n",
    "# for i in range(nbins):\n",
    "#     wps = nmt.NmtWorkspace()\n",
    "#     wps.compute_coupling_matrix(cc, gg[i], b_bin)\n",
    "    \n",
    "#     # covariance matrix #\n",
    "#     cw = nmt.NmtCovarianceWorkspace()\n",
    "#     cw.compute_coupling_coefficients(cc, gg[i], cc, gg[i])\n",
    "#     covar_gcgc[i] = nmt.gaussian_covariance(cw,\n",
    "#                                      0, 0, 0, 0,  # Spins of the 4 fields\n",
    "#                                      [clsgg[i]], \n",
    "#                                      [clsggc[i]], \n",
    "#                                      [clscc], \n",
    "#                                      [clsggc[i]], \n",
    "#                                      wps, wb = wps).reshape([nll, 1,\n",
    "#                                                            nll, 1])\n",
    "# print((cw.wsp.lmax))"
   ]
  },
  {
   "cell_type": "code",
   "execution_count": 22,
   "metadata": {},
   "outputs": [],
   "source": [
    "# ## cc\n",
    "# wps = nmt.NmtWorkspace()\n",
    "# wps.compute_coupling_matrix(cc, cc, b_bin)\n",
    "\n",
    "# # covariance matrix #\n",
    "# cw = nmt.NmtCovarianceWorkspace()\n",
    "# cw.compute_coupling_coefficients(cc, cc, cc, cc)\n",
    "# covar_cc = nmt.gaussian_covariance(cw,\n",
    "#                                     0, 0, 0, 0,  # Spins of the 4 fields\n",
    "#                                     [clscc], \n",
    "#                                     [clscc], \n",
    "#                                     [clscc], \n",
    "#                                     [clscc], \n",
    "#                                     wps, wb = wps).reshape([nll, 1,\n",
    "#                                                         nll, 1])\n",
    "# ## gg\n",
    "# covar_gggg =[[] for i in range(nbins)]   \n",
    "# for i in range(nbins):\n",
    "#     wps = nmt.NmtWorkspace()\n",
    "#     wps.compute_coupling_matrix(gg[i], gg[i], b_bin)\n",
    "\n",
    "#     # covariance matrix #\n",
    "#     cw = nmt.NmtCovarianceWorkspace()\n",
    "#     cw.compute_coupling_coefficients(gg[i], gg[i], gg[i], gg[i])\n",
    "#     covar_gg = nmt.gaussian_covariance(cw,\n",
    "#                                         0, 0, 0, 0,  # Spins of the 4 fields\n",
    "#                                     [clsgg[i]], \n",
    "#                                     [clsgg[i]], \n",
    "#                                     [clsgg[i]], \n",
    "#                                     [clsgg[i]], \n",
    "#                                     wps, wb = wps).reshape([nll, 1,\n",
    "#                                                         nll, 1])\n"
   ]
  },
  {
   "cell_type": "code",
   "execution_count": 23,
   "metadata": {},
   "outputs": [],
   "source": [
    "# #%matplotlib\n",
    "# figure('$C_{\\ell}^{gv}$', '$\\ell$', (5e-11, 1.5e-6), (2, 1800), 'log', 'log')\n",
    "# # plt.errorbar(ell_arr, cl_gc1,\n",
    "# # yerr = np.sqrt(np.diag(covar_00_00[:,0,:,0])), label = 'bin1xCIB', marker = 'd', ls = '')\n",
    "# plt.errorbar(ell_arr, cl_gc2,\n",
    "# yerr = np.sqrt(np.diag(covar_00_002[:,0,:,0])), label = 'bin2xCIB', marker = 'o', ls ='')\n",
    "# plt.legend(loc= 'best', frameon = False)"
   ]
  },
  {
   "cell_type": "code",
   "execution_count": 24,
   "metadata": {},
   "outputs": [],
   "source": [
    "z = np.loadtxt('/home/giulia/Scrivania/z.txt')\n",
    "nz1 = np.loadtxt('/home/giulia/Scrivania/nz_qso0.txt')\n",
    "nz2 = np.loadtxt('/home/giulia/Scrivania/nz_qso1.txt')\n",
    "nz3 = np.loadtxt('/home/giulia/Scrivania/nz_qso2.txt')\n",
    "nzs = [nz1, nz2, nz3]\n",
    "\n",
    "# # for i in range(nbins):np.loadtxt('/home/giulia/Scrivania/Giuli/dottorato/mappe/quaia/bin3/z_nz_bin3.txt')\n",
    "# #     nz = nzs[i]\n",
    "# #     s.add_tracer('NZ', names[i], quantity='galaxy_density', spin=0, z = z, nz = nz)\n",
    "# # s.add_tracer('Map', 'CIBLenz__2', quantity = 'CIBLenz__2', spin = 0, ell = ls, beam = bm)\n",
    "\n",
    "# # for i in range(nbins):\n",
    "# #     s.add_ell_cl('cl_00', names[i], names[i], ell_arr, cl_gg[i][0])\n",
    "# # #     s.add_ell_cl('cl_00', 'CIBLenz__2', names[i], ell_arr, cl_gc[i], \n",
    "# #                 window = bl)\n",
    "# # s.add_ell_cl('cl_00', 'CIBLenz__2', 'CIBLenz__2', ell_arr, cl_cc[0], window = bl)\n",
    "# # ###\n",
    "# plt.plot(z, nz1)\n",
    "# plt.plot(z, nz2)\n",
    "# plt.plot(z, nz3)"
   ]
  },
  {
   "cell_type": "code",
   "execution_count": 25,
   "metadata": {},
   "outputs": [],
   "source": [
    "## NOTEBOOK TO SAVE CLs and COVARIANCE ##\n",
    "bpw_edges = [0, 30, 60, 90, 120, 150, 180, 210, 240, 272, 309, 351, 398, 452, 513, 582, 661, 750, 852, 967, 1098, 1247, 1536]\n",
    "\n",
    "# b = nmt.NmtBin(nside, nlb=30)\n",
    "b = nmt.NmtBin.from_edges(bpw_edges[:-1], bpw_edges[1:])\n",
    "leff = b.get_effective_ells()\n",
    "# print(leff)\n",
    "\n",
    "# Calculator\n",
    "def get_cl(f1, f2, pnl=None):\n",
    "    pcl = nmt.compute_coupled_cell(f1, f2)\n",
    "    w = nmt.NmtWorkspace()\n",
    "    w.compute_coupling_matrix(f1, f2, b)\n",
    "    cl = w.decouple_cell(pcl)\n",
    "    if pnl is not None:\n",
    "        nl = w.decouple_cell(pnl)\n",
    "        cl -= nl\n",
    "    else:\n",
    "        nl = np.zeros_like(cl)\n",
    "    wins = w.get_bandpower_windows()\n",
    "    return cl, nl, w, wins.squeeze()\n"
   ]
  },
  {
   "cell_type": "code",
   "execution_count": 54,
   "metadata": {},
   "outputs": [
    {
     "name": "stdout",
     "output_type": "stream",
     "text": [
      "1\n",
      "[[1.76661224e-05 1.76661224e-05 1.76661224e-05 ... 1.76661224e-05\n",
      "  1.76661224e-05 1.76661224e-05]]\n",
      "2\n",
      "[[5.30229406e-06 5.30229406e-06 5.30229406e-06 ... 5.30229406e-06\n",
      "  5.30229406e-06 5.30229406e-06]]\n",
      "3\n",
      "[[3.27287492e-05 3.27287492e-05 3.27287492e-05 ... 3.27287492e-05\n",
      "  3.27287492e-05 3.27287492e-05]]\n",
      "Using matplotlib backend: Qt5Agg\n"
     ]
    }
   ],
   "source": [
    "nside = 512\n",
    "nbins = 3\n",
    "# Include prior on shot-noise amplitude?\n",
    "#Asn_prior = 0.1\n",
    "Asn_prior = None\n",
    "magcut = \"20.5\"\n",
    "nz_spec = False\n",
    "if nz_spec:\n",
    "    nz_suff = '_nzhist'\n",
    "    num_z_bins = 100\n",
    "else:\n",
    "    nz_suff = ''\n",
    "    num_z_bins = 500\n",
    "\n",
    "# Read full catalog and calculate edges for the number of bins\n",
    "config = {'nside': nside, 'num_z_bins': num_z_bins, 'z_edges': [0.0, 5.0],\n",
    "          'data_catalog': f\"/home/giulia/xCell-GAIA_QSO/xcell/mappers/quaia_G{magcut}.fits\",\n",
    "          'selection': f\"/home/giulia/xCell-GAIA_QSO/xcell/mappers/selection_function_NSIDE64_G{magcut}.fits\",\n",
    "          'mask_threshold': 0.5, 'coords': 'C', 'nz_spec': nz_spec}\n",
    "mp = xcl.mappers.MapperGAIAQSO(config)\n",
    "cat = mp.get_catalog()\n",
    "zs = sorted(cat['redshift_quaia'])\n",
    "z_edges = [0, 1, 2.5, 5]\n",
    "nbins = 3\n",
    "\n",
    "maps = {}\n",
    "masks = {}\n",
    "nzs = {}\n",
    "fgs = {}\n",
    "pnl = {}\n",
    "n = ['0', '1', '1']\n",
    "for i in range(nbins):\n",
    "    print(i+1)\n",
    "    if nbins == 1:\n",
    "        selname = f\"/home/giulia/xCell-GAIA_QSO/xcell/mappers/selection_function_NSIDE64_G{magcut}.fits\"\n",
    "    else:\n",
    "        # Fixme: we need the selection function for G20.0\n",
    "        selname = f\"/home/giulia/xCell-GAIA_QSO/xcell/mappers/selection_function_NSIDE64_G20.5_zsplit{nbins-1}bin{n[i]}.fits\"\n",
    "    nm = f'qso{i}'\n",
    "    config = {'nside': nside, 'num_z_bins': num_z_bins, 'z_edges': [z_edges[i], z_edges[i+1]],\n",
    "              'data_catalog': f\"/home/giulia/xCell-GAIA_QSO/xcell/mappers/quaia_G{magcut}.fits\",\n",
    "              'selection': selname,\n",
    "              'mask_threshold': 0.5, 'coords': 'C', 'nz_spec': nz_spec}\n",
    "    mp = xcl.mappers.MapperGAIAQSO(config)\n",
    "    maps[nm] = mp.get_signal_map()\n",
    "    # hp.write_map(f'/home/giulia/xCell-GAIA_QSO/xcell/mappers/quaia_G{magcut}_bin{i+1}_map_nside512v1.fits', maps[nm])\n",
    "    masks[nm] = mp.get_mask()\n",
    "    # hp.write_map(f'/home/giulia/xCell-GAIA_QSO/xcell/mappers/quaia_G{magcut}_bin{i+1}_mask_nside512v1.fits', masks[nm])\n",
    "\n",
    "    nzs[nm] = mp.get_nz()\n",
    "    pnl[nm] = mp.get_nl_coupled()\n",
    "    print(pnl[nm])\n",
    "    fg = mp.get_nmt_field()\n",
    "    fg.sel = 'gal'\n",
    "    fgs[nm] = fg\n",
    "\n",
    "# Plot stuff\n",
    "%matplotlib\n",
    "figure('N(z)', 'z', (0,1.2), (0,4.5), 'linear', 'linear')\n",
    "for nm, dndz in nzs.items():\n",
    "    z, nz = dndz\n",
    "    plt.plot(z, nz/np.max(nz), label=nm, lw = 1.5)\n",
    "    # np.savetxt('/home/giulia/Scrivania/z.txt', z)\n",
    "    # np.savetxt(f'/home/giulia/Scrivania/nz_{nm}.txt', nz)\n",
    "\n",
    "plt.legend(loc='upper right', fontsize=14, frameon=False)\n",
    "plt.savefig('/home/giulia/Scrivania/Giuli/dottorato/oxford_work/quaiaxcmb/quaiaxcib/nz_bin3.png', dpi = 110)\n",
    "\n",
    "# for n, d in maps.items():\n",
    "#     hp.mollview(d[0], title=n)\n",
    "# mask = masks['qso0']\n",
    "# hp.mollview(mask)\n",
    "gg = [fgs[f'qso{i}'] for i in range(nbins)]\n"
   ]
  },
  {
   "cell_type": "code",
   "execution_count": 55,
   "metadata": {},
   "outputs": [
    {
     "name": "stdout",
     "output_type": "stream",
     "text": [
      "qso0_qso0\n",
      "icl 0\n",
      "qso0_qso1\n",
      "icl 1\n",
      "qso0_qso2\n",
      "icl 2\n",
      "qso0_CIBLenz__2\n",
      "icl 3\n",
      "qso1_qso1\n",
      "icl 4\n",
      "qso1_qso2\n",
      "icl 5\n",
      "qso1_CIBLenz__2\n",
      "icl 6\n",
      "qso2_qso2\n",
      "icl 7\n",
      "qso2_CIBLenz__2\n",
      "icl 8\n"
     ]
    }
   ],
   "source": [
    "map_names = ['qso0', 'qso1', 'qso2', 'CIBLenz__2']\n",
    "def cl_iter():\n",
    "    icl = 0\n",
    "    for i1, nm1 in enumerate(map_names):\n",
    "        for i2, nm2 in enumerate(map_names):\n",
    "            # Skip repeated\n",
    "            if i2 < i1:\n",
    "                continue\n",
    "            # Skip kappa-kappa\n",
    "            if (nm1 == 'CIBLenz__2') and (nm2 == 'CIBLenz__2'):\n",
    "                continue\n",
    "            cl_name = f'{nm1}_{nm2}'\n",
    "            yield icl, i1, i2, nm1, nm2, cl_name\n",
    "            icl += 1\n",
    "\n",
    "cls = {}\n",
    "fgs = {}\n",
    "pnls = {}\n",
    "n = ['qso0','qso1', 'qso2']\n",
    "\n",
    "for i in range(nbins):\n",
    "    # fg = gg[i]\n",
    "    # fg.sel = 'gal'\n",
    "    # fgs[map_names[i]] = fg\n",
    "    gg[i].sel = 'gal'\n",
    "    fgs[map_names[i]] = gg[i]\n",
    "    pnls[map_names[i]] = pnl[n[i]]\n",
    "fcc = cc\n",
    "fcc.sel = 'CIBLenz__2'\n",
    "fgs['CIBLenz__2'] = cc \n",
    "\n",
    "for icl, _, _, nm1, nm2, cl_name in cl_iter():\n",
    "    print(cl_name)\n",
    "    print('icl', icl)\n",
    "    fg1 = fgs[nm1]\n",
    "    fg2 = fgs[nm2]\n",
    "    pnl = pnls[nm1] if nm1 == nm2 else None\n",
    "    cl, nl, w, Bbl = get_cl(fg1, fg2, pnl=pnl)\n",
    "    \n",
    "    cls[cl_name] = {'cl': cl, 'nl': nl, 'Bbl': Bbl, 'w': w}\n"
   ]
  },
  {
   "cell_type": "code",
   "execution_count": 28,
   "metadata": {},
   "outputs": [
    {
     "data": {
      "text/plain": [
       "{'cl': array([[-9.36755421e-07,  2.47702611e-07,  3.38982759e-07,\n",
       "          2.80306520e-07,  3.84229327e-07,  3.75900988e-07,\n",
       "          2.58681897e-07,  2.39000553e-07,  2.14236420e-07,\n",
       "          1.81272710e-07,  1.55679293e-07,  1.31092257e-07,\n",
       "          1.41165089e-07,  1.01599438e-07,  8.85241099e-08,\n",
       "          6.04404921e-08,  5.12786822e-08,  4.90729556e-08,\n",
       "          3.23265029e-08,  3.25605674e-08,  2.36280428e-08,\n",
       "          1.74535490e-08]]),\n",
       " 'nl': array([[0., 0., 0., 0., 0., 0., 0., 0., 0., 0., 0., 0., 0., 0., 0., 0.,\n",
       "         0., 0., 0., 0., 0., 0.]]),\n",
       " 'Bbl': array([[ 2.26295121e-02,  2.97057333e-02,  4.40404230e-02, ...,\n",
       "          1.56543460e-09,  7.81010449e-10,  3.58807352e-10],\n",
       "        [-2.03642073e-04, -2.66674916e-04, -3.95264859e-04, ...,\n",
       "         -1.36732588e-10,  1.08756073e-10,  1.96064383e-10],\n",
       "        [-6.83871317e-08,  9.83617559e-08,  1.50580045e-07, ...,\n",
       "         -9.30329025e-10, -8.54489619e-10, -8.04543845e-10],\n",
       "        ...,\n",
       "        [-2.05059256e-11, -2.19493544e-11, -3.45341075e-11, ...,\n",
       "         -2.83838336e-09, -2.02694726e-09, -2.53613840e-09],\n",
       "        [ 9.35245943e-12,  1.17030172e-11,  1.64348511e-11, ...,\n",
       "         -6.53386228e-06, -5.43202816e-06, -5.41735363e-06],\n",
       "        [-7.25113583e-13, -1.39459957e-12, -1.31719870e-12, ...,\n",
       "          3.26730917e-03,  2.71628117e-03,  2.70915241e-03]]),\n",
       " 'w': <pymaster.workspaces.NmtWorkspace at 0x7fa03c203940>}"
      ]
     },
     "execution_count": 28,
     "metadata": {},
     "output_type": "execute_result"
    }
   ],
   "source": [
    "## PLOT CHECK ok ##\n",
    "plt.loglog(leff, cls['qso1_CIBLenz__2']['cl'][0], 'rs', label = 'qso0_CIBLenz__2', ls = '')\n",
    "plt.loglog(leff+2, cls['qso1_CIBLenz__2']['cl'][0], 'ks', label = 'qso1_CIBLenz__2', ls = '')\n",
    "# plt.loglog(leff+4, cls['qso2_CIBLenz__2']['cl'][0],label = 'qso2_CIBLenz__2', ls = '')\n",
    "cls['qso1_CIBLenz__2']\n"
   ]
  },
  {
   "cell_type": "code",
   "execution_count": 29,
   "metadata": {},
   "outputs": [],
   "source": [
    "cws = {}\n",
    "\n",
    "def get_cov(f1, f2, f3, f4, ms, w12, w34):\n",
    "    nm = f'{f1.sel}-{f2.sel}-{f3.sel}-{f4.sel}'\n",
    "    fs = [f1, f2, f3, f4]\n",
    "    # ms = [f.get_mask() for f in fs]\n",
    "    #ms = [mask_bin1, mask_bin2, mask_c, mask_c]\n",
    "    cls = np.array([[nmt.compute_coupled_cell(fs[i], fs[j])/np.mean(ms[i]*ms[j])\n",
    "                     for i in range(4)] for j in range(4)])\n",
    "    cw = nmt.NmtCovarianceWorkspace()\n",
    "    cw.compute_coupling_coefficients(f1, f2, f3, f4)\n",
    "    cws[nm] = cw\n",
    "    cv = nmt.gaussian_covariance(cw, 0, 0, 0, 0, cls[0, 2], cls[0, 3], cls[1, 2], cls[1, 3], w12, wb=w34)\n",
    "    return cv"
   ]
  },
  {
   "cell_type": "code",
   "execution_count": 34,
   "metadata": {},
   "outputs": [
    {
     "name": "stdout",
     "output_type": "stream",
     "text": [
      "9\n"
     ]
    }
   ],
   "source": [
    "n_cls = nbins*(nbins+3)//2\n",
    "n_ell = len(cls['qso0_qso0']['cl'][0])\n",
    "print(n_cls)"
   ]
  },
  {
   "cell_type": "code",
   "execution_count": 31,
   "metadata": {},
   "outputs": [],
   "source": [
    "## work around since get mask is not working\n",
    "masks_all = {'qso0': mask_bin1, 'qso1': mask_bin2, 'qso2': mask_bin2, 'CIBLenz__2': mask_c}"
   ]
  },
  {
   "cell_type": "code",
   "execution_count": 51,
   "metadata": {},
   "outputs": [
    {
     "data": {
      "text/plain": [
       "{'qso0': <pymaster.field.NmtField at 0x7fa07733b5b0>,\n",
       " 'qso1': <pymaster.field.NmtField at 0x7fa0adf9fc70>,\n",
       " 'qso2': <pymaster.field.NmtField at 0x7fa076e3ee20>,\n",
       " 'CIBLenz__2': <pymaster.field.NmtField at 0x7fa0adfd7f70>}"
      ]
     },
     "execution_count": 51,
     "metadata": {},
     "output_type": "execute_result"
    }
   ],
   "source": [
    "fgs"
   ]
  },
  {
   "cell_type": "code",
   "execution_count": 52,
   "metadata": {},
   "outputs": [
    {
     "name": "stdout",
     "output_type": "stream",
     "text": [
      "nm1 qso0 nm2 qso0\n",
      "nm3 qso0 nm4 qso0\n",
      "nm3 qso0 nm4 qso1\n",
      "nm3 qso0 nm4 qso2\n",
      "nm3 qso0 nm4 CIBLenz__2\n",
      "nm3 qso1 nm4 qso1\n",
      "nm3 qso1 nm4 qso2\n",
      "nm3 qso1 nm4 CIBLenz__2\n",
      "nm3 qso2 nm4 qso2\n",
      "nm3 qso2 nm4 CIBLenz__2\n",
      "nm1 qso0 nm2 qso1\n",
      "nm3 qso0 nm4 qso0\n",
      "nm3 qso0 nm4 qso1\n",
      "nm3 qso0 nm4 qso2\n",
      "nm3 qso0 nm4 CIBLenz__2\n",
      "nm3 qso1 nm4 qso1\n",
      "nm3 qso1 nm4 qso2\n",
      "nm3 qso1 nm4 CIBLenz__2\n",
      "nm3 qso2 nm4 qso2\n",
      "nm3 qso2 nm4 CIBLenz__2\n",
      "nm1 qso0 nm2 qso2\n",
      "nm3 qso0 nm4 qso0\n",
      "nm3 qso0 nm4 qso1\n",
      "nm3 qso0 nm4 qso2\n",
      "nm3 qso0 nm4 CIBLenz__2\n",
      "nm3 qso1 nm4 qso1\n",
      "nm3 qso1 nm4 qso2\n",
      "nm3 qso1 nm4 CIBLenz__2\n",
      "nm3 qso2 nm4 qso2\n",
      "nm3 qso2 nm4 CIBLenz__2\n",
      "nm1 qso0 nm2 CIBLenz__2\n",
      "nm3 qso0 nm4 qso0\n",
      "nm3 qso0 nm4 qso1\n",
      "nm3 qso0 nm4 qso2\n",
      "nm3 qso0 nm4 CIBLenz__2\n",
      "nm3 qso1 nm4 qso1\n",
      "nm3 qso1 nm4 qso2\n",
      "nm3 qso1 nm4 CIBLenz__2\n",
      "nm3 qso2 nm4 qso2\n",
      "nm3 qso2 nm4 CIBLenz__2\n",
      "nm1 qso1 nm2 qso1\n",
      "nm3 qso0 nm4 qso0\n",
      "nm3 qso0 nm4 qso1\n",
      "nm3 qso0 nm4 qso2\n",
      "nm3 qso0 nm4 CIBLenz__2\n",
      "nm3 qso1 nm4 qso1\n",
      "nm3 qso1 nm4 qso2\n",
      "nm3 qso1 nm4 CIBLenz__2\n",
      "nm3 qso2 nm4 qso2\n",
      "nm3 qso2 nm4 CIBLenz__2\n",
      "nm1 qso1 nm2 qso2\n",
      "nm3 qso0 nm4 qso0\n",
      "nm3 qso0 nm4 qso1\n",
      "nm3 qso0 nm4 qso2\n",
      "nm3 qso0 nm4 CIBLenz__2\n",
      "nm3 qso1 nm4 qso1\n",
      "nm3 qso1 nm4 qso2\n",
      "nm3 qso1 nm4 CIBLenz__2\n",
      "nm3 qso2 nm4 qso2\n",
      "nm3 qso2 nm4 CIBLenz__2\n",
      "nm1 qso1 nm2 CIBLenz__2\n",
      "nm3 qso0 nm4 qso0\n",
      "nm3 qso0 nm4 qso1\n",
      "nm3 qso0 nm4 qso2\n",
      "nm3 qso0 nm4 CIBLenz__2\n",
      "nm3 qso1 nm4 qso1\n",
      "nm3 qso1 nm4 qso2\n",
      "nm3 qso1 nm4 CIBLenz__2\n",
      "nm3 qso2 nm4 qso2\n",
      "nm3 qso2 nm4 CIBLenz__2\n",
      "nm1 qso2 nm2 qso2\n",
      "nm3 qso0 nm4 qso0\n",
      "nm3 qso0 nm4 qso1\n",
      "nm3 qso0 nm4 qso2\n",
      "nm3 qso0 nm4 CIBLenz__2\n",
      "nm3 qso1 nm4 qso1\n",
      "nm3 qso1 nm4 qso2\n",
      "nm3 qso1 nm4 CIBLenz__2\n",
      "nm3 qso2 nm4 qso2\n",
      "nm3 qso2 nm4 CIBLenz__2\n",
      "nm1 qso2 nm2 CIBLenz__2\n",
      "nm3 qso0 nm4 qso0\n",
      "nm3 qso0 nm4 qso1\n",
      "nm3 qso0 nm4 qso2\n",
      "nm3 qso0 nm4 CIBLenz__2\n",
      "nm3 qso1 nm4 qso1\n",
      "nm3 qso1 nm4 qso2\n",
      "nm3 qso1 nm4 CIBLenz__2\n",
      "nm3 qso2 nm4 qso2\n",
      "nm3 qso2 nm4 CIBLenz__2\n"
     ]
    }
   ],
   "source": [
    "cov = []\n",
    "for i1, _, _, _, _, _ in cl_iter():\n",
    "    cov.append([])\n",
    "    for i2, _, _, _, _, _ in cl_iter():\n",
    "        cov[i1].append(np.zeros([n_ell, n_ell]))\n",
    "\n",
    "for icl1, _, _, nm1, nm2, cl_name12 in cl_iter():\n",
    "    f1 = fgs[nm1]\n",
    "    f2 = fgs[nm2]\n",
    "    print('nm1', nm1, 'nm2', nm2)\n",
    "\n",
    "    w12 = cls[cl_name12]['w']\n",
    "    for icl2, _, _, nm3, nm4, cl_name34 in cl_iter():\n",
    "        #print(nm1, nm2, nm3, nm4)\n",
    "        f3 = fgs[nm3]\n",
    "        f4 = fgs[nm4]\n",
    "        w34 = cls[cl_name34]['w']\n",
    "        print('nm3', nm3, 'nm4', nm4)\n",
    "\n",
    "        ms = [masks_all[nm] for nm in [nm1, nm2, nm3, nm4]]\n",
    "        if icl2 < icl1:\n",
    "            cv = cov[icl2][icl1].T\n",
    "        else:\n",
    "            cv = get_cov(f1, f2, f3, f4, ms, w12, w34)\n",
    "        if icl1 == icl2:\n",
    "            # gg-gg auto cov. Deproject shot noise.\n",
    "            if (nm1 == nm2) and (Asn_prior is not None):\n",
    "                nl = cls[cl_name12]['nl'].squeeze()\n",
    "                cv += Asn_prior**2*np.outer(nl, nl)\n",
    "            cls[cl_name12]['cov'] = cv\n",
    "        cov[icl1][icl2] = cv\n",
    "cov_blocks = np.array(cov)\n",
    "cov_all = np.transpose(cov_blocks, axes=[0, 2, 1, 3]).reshape([n_cls*n_ell, n_cls*n_ell])"
   ]
  },
  {
   "cell_type": "code",
   "execution_count": 33,
   "metadata": {},
   "outputs": [
    {
     "data": {
      "text/plain": [
       "(9, 9, 22, 22)"
      ]
     },
     "execution_count": 33,
     "metadata": {},
     "output_type": "execute_result"
    }
   ],
   "source": [
    "np.shape(cov)"
   ]
  },
  {
   "cell_type": "code",
   "execution_count": 36,
   "metadata": {},
   "outputs": [
    {
     "name": "stdout",
     "output_type": "stream",
     "text": [
      "qso0\n",
      "qso1\n",
      "qso2\n"
     ]
    },
    {
     "name": "stderr",
     "output_type": "stream",
     "text": [
      "/home/giulia/anaconda3/lib/python3.9/site-packages/sacc/tracers.py:44: UserWarning: Unknown quantity cib. If possible use a pre-defined quantity, or add to the list.\n",
      "  warnings.warn(f\"Unknown quantity {quantity}. \"\n"
     ]
    }
   ],
   "source": [
    "s = sacc.Sacc()\n",
    "ls = np.arange(3*nside)\n",
    "bm = np.ones(3*nside)\n",
    "\n",
    "i = 0\n",
    "for nm in map_names[:-1]:\n",
    "    print(nm)\n",
    "    nz = nzs[i]\n",
    "    s.add_tracer('NZ', nm, quantity='galaxy_density', spin=0, z= z, nz=nz)\n",
    "    i+=1\n",
    "\n",
    "s.add_tracer('Map', 'CIBLenz__2', quantity='cib', spin=0, ell=ls, beam=bm)\n",
    "for icl1, _, _, nm1, nm2, cl_name in cl_iter():\n",
    "    d = cls[cl_name]\n",
    "    s.add_ell_cl('cl_00', nm1, nm2, leff,\n",
    "                 d['cl'].squeeze(),\n",
    "                 window=sacc.BandpowerWindow(ls, d['Bbl'].T))\n",
    "s.add_covariance(cov_all)\n",
    "fname = f\"cls_g_cib_{nbins}bins_G{magcut}_logbins3\"\n",
    "dir = '/home/giulia/Scrivania/Giuli/dottorato/oxford_work/quaiaxcmb/quaiaxcib/'\n",
    "s.save_fits(dir +fname+\".fits\", overwrite=True)"
   ]
  },
  {
   "cell_type": "code",
   "execution_count": null,
   "metadata": {},
   "outputs": [],
   "source": []
  }
 ],
 "metadata": {
  "kernelspec": {
   "display_name": "Python 3.9.7 ('base')",
   "language": "python",
   "name": "python3"
  },
  "language_info": {
   "codemirror_mode": {
    "name": "ipython",
    "version": 3
   },
   "file_extension": ".py",
   "mimetype": "text/x-python",
   "name": "python",
   "nbconvert_exporter": "python",
   "pygments_lexer": "ipython3",
   "version": "3.9.7"
  },
  "orig_nbformat": 4,
  "vscode": {
   "interpreter": {
    "hash": "427a5a29ca46bb068069aa8077d5fbbc49c08ba059082294229ac9a873f669b9"
   }
  }
 },
 "nbformat": 4,
 "nbformat_minor": 2
}
